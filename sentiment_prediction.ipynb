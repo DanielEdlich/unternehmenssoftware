{
 "cells": [
  {
   "attachments": {},
   "cell_type": "markdown",
   "metadata": {},
   "source": [
    "## Sentiment Prediction using Random Forest Classifier & SVM"
   ]
  },
  {
   "cell_type": "code",
   "execution_count": 61,
   "metadata": {},
   "outputs": [
    {
     "data": {
      "text/html": [
       "<div>\n",
       "<style scoped>\n",
       "    .dataframe tbody tr th:only-of-type {\n",
       "        vertical-align: middle;\n",
       "    }\n",
       "\n",
       "    .dataframe tbody tr th {\n",
       "        vertical-align: top;\n",
       "    }\n",
       "\n",
       "    .dataframe thead th {\n",
       "        text-align: right;\n",
       "    }\n",
       "</style>\n",
       "<table border=\"1\" class=\"dataframe\">\n",
       "  <thead>\n",
       "    <tr style=\"text-align: right;\">\n",
       "      <th></th>\n",
       "      <th>Unnamed: 0</th>\n",
       "      <th>site</th>\n",
       "      <th>stars</th>\n",
       "      <th>title</th>\n",
       "      <th>text</th>\n",
       "      <th>text_clean</th>\n",
       "      <th>text_sid_vader_neg</th>\n",
       "      <th>text_sid_vader_neu</th>\n",
       "      <th>text_sid_vader_pos</th>\n",
       "      <th>text_sid_vader_compound</th>\n",
       "      <th>text_sid_textblob_polarity</th>\n",
       "    </tr>\n",
       "  </thead>\n",
       "  <tbody>\n",
       "    <tr>\n",
       "      <th>1444</th>\n",
       "      <td>1444</td>\n",
       "      <td>www.ebay.com</td>\n",
       "      <td>2</td>\n",
       "      <td>I'm so disappointed and Very Mad</td>\n",
       "      <td>I'm so disappointed and Very Mad ordering thin...</td>\n",
       "      <td>i'm so disappoint and veri mad order thing off...</td>\n",
       "      <td>0.150</td>\n",
       "      <td>0.782</td>\n",
       "      <td>0.068</td>\n",
       "      <td>-0.8221</td>\n",
       "      <td>-0.1375</td>\n",
       "    </tr>\n",
       "    <tr>\n",
       "      <th>4557</th>\n",
       "      <td>4557</td>\n",
       "      <td>www.facebook.com</td>\n",
       "      <td>4</td>\n",
       "      <td>in need for some accessible options</td>\n",
       "      <td>Good application. I have read that you can sta...</td>\n",
       "      <td>good applic i have read that you can start a s...</td>\n",
       "      <td>0.079</td>\n",
       "      <td>0.863</td>\n",
       "      <td>0.058</td>\n",
       "      <td>-0.1815</td>\n",
       "      <td>0.1500</td>\n",
       "    </tr>\n",
       "    <tr>\n",
       "      <th>4246</th>\n",
       "      <td>4246</td>\n",
       "      <td>www.google.com</td>\n",
       "      <td>4</td>\n",
       "      <td>Ladylux salon</td>\n",
       "      <td>Pleased with nice cut from Nicola, she knew wh...</td>\n",
       "      <td>pleas with nice cut from nicola she knew what ...</td>\n",
       "      <td>0.117</td>\n",
       "      <td>0.726</td>\n",
       "      <td>0.156</td>\n",
       "      <td>0.1779</td>\n",
       "      <td>0.6000</td>\n",
       "    </tr>\n",
       "  </tbody>\n",
       "</table>\n",
       "</div>"
      ],
      "text/plain": [
       "      Unnamed: 0              site  stars  \\\n",
       "1444        1444      www.ebay.com      2   \n",
       "4557        4557  www.facebook.com      4   \n",
       "4246        4246    www.google.com      4   \n",
       "\n",
       "                                    title  \\\n",
       "1444     I'm so disappointed and Very Mad   \n",
       "4557  in need for some accessible options   \n",
       "4246                        Ladylux salon   \n",
       "\n",
       "                                                   text  \\\n",
       "1444  I'm so disappointed and Very Mad ordering thin...   \n",
       "4557  Good application. I have read that you can sta...   \n",
       "4246  Pleased with nice cut from Nicola, she knew wh...   \n",
       "\n",
       "                                             text_clean  text_sid_vader_neg  \\\n",
       "1444  i'm so disappoint and veri mad order thing off...               0.150   \n",
       "4557  good applic i have read that you can start a s...               0.079   \n",
       "4246  pleas with nice cut from nicola she knew what ...               0.117   \n",
       "\n",
       "      text_sid_vader_neu  text_sid_vader_pos  text_sid_vader_compound  \\\n",
       "1444               0.782               0.068                  -0.8221   \n",
       "4557               0.863               0.058                  -0.1815   \n",
       "4246               0.726               0.156                   0.1779   \n",
       "\n",
       "      text_sid_textblob_polarity  \n",
       "1444                     -0.1375  \n",
       "4557                      0.1500  \n",
       "4246                      0.6000  "
      ]
     },
     "execution_count": 61,
     "metadata": {},
     "output_type": "execute_result"
    }
   ],
   "source": [
    "import spacy\n",
    "import sklearn\n",
    "import pandas as pd\n",
    "import numpy as np\n",
    "import matplotlib.pyplot as plt\n",
    "from sklearn.model_selection import train_test_split\n",
    "from sklearn.ensemble import RandomForestClassifier\n",
    "from sklearn.svm import SVC\n",
    "from sklearn.metrics import classification_report, ConfusionMatrixDisplay\n",
    "\n",
    "# Load pre-processed data\n",
    "df = pd.read_csv(\"data_cleaned_all.csv\")\n",
    "df.sample(3)"
   ]
  },
  {
   "cell_type": "code",
   "execution_count": 62,
   "metadata": {},
   "outputs": [
    {
     "data": {
      "text/html": [
       "<div>\n",
       "<style scoped>\n",
       "    .dataframe tbody tr th:only-of-type {\n",
       "        vertical-align: middle;\n",
       "    }\n",
       "\n",
       "    .dataframe tbody tr th {\n",
       "        vertical-align: top;\n",
       "    }\n",
       "\n",
       "    .dataframe thead th {\n",
       "        text-align: right;\n",
       "    }\n",
       "</style>\n",
       "<table border=\"1\" class=\"dataframe\">\n",
       "  <thead>\n",
       "    <tr style=\"text-align: right;\">\n",
       "      <th></th>\n",
       "      <th>stars</th>\n",
       "      <th>text</th>\n",
       "      <th>text_clean</th>\n",
       "      <th>text_sid_vader_compound</th>\n",
       "      <th>text_sid_textblob_polarity</th>\n",
       "      <th>sentiment</th>\n",
       "    </tr>\n",
       "  </thead>\n",
       "  <tbody>\n",
       "    <tr>\n",
       "      <th>361</th>\n",
       "      <td>1</td>\n",
       "      <td>Ebay is full of bandits. if you try to sell so...</td>\n",
       "      <td>ebay is full of bandit if you tri to sell some...</td>\n",
       "      <td>-0.9306</td>\n",
       "      <td>0.175000</td>\n",
       "      <td>-1.0</td>\n",
       "    </tr>\n",
       "    <tr>\n",
       "      <th>4030</th>\n",
       "      <td>4</td>\n",
       "      <td>Philip was great! Knowledgeable and patient. H...</td>\n",
       "      <td>philip was great knowledg and patient he help ...</td>\n",
       "      <td>0.6336</td>\n",
       "      <td>0.800000</td>\n",
       "      <td>1.0</td>\n",
       "    </tr>\n",
       "    <tr>\n",
       "      <th>1135</th>\n",
       "      <td>1</td>\n",
       "      <td>I've been a loyal  customer  for over 12 years...</td>\n",
       "      <td>i'v been a loyal custom for over 12 year been ...</td>\n",
       "      <td>0.7579</td>\n",
       "      <td>0.055556</td>\n",
       "      <td>-1.0</td>\n",
       "    </tr>\n",
       "  </tbody>\n",
       "</table>\n",
       "</div>"
      ],
      "text/plain": [
       "      stars                                               text  \\\n",
       "361       1  Ebay is full of bandits. if you try to sell so...   \n",
       "4030      4  Philip was great! Knowledgeable and patient. H...   \n",
       "1135      1  I've been a loyal  customer  for over 12 years...   \n",
       "\n",
       "                                             text_clean  \\\n",
       "361   ebay is full of bandit if you tri to sell some...   \n",
       "4030  philip was great knowledg and patient he help ...   \n",
       "1135  i'v been a loyal custom for over 12 year been ...   \n",
       "\n",
       "      text_sid_vader_compound  text_sid_textblob_polarity  sentiment  \n",
       "361                   -0.9306                    0.175000       -1.0  \n",
       "4030                   0.6336                    0.800000        1.0  \n",
       "1135                   0.7579                    0.055556       -1.0  "
      ]
     },
     "execution_count": 62,
     "metadata": {},
     "output_type": "execute_result"
    }
   ],
   "source": [
    "# Additional data formatting and adding of the target column\n",
    "df.drop(['Unnamed: 0', 'site', 'title','text_sid_vader_neg','text_sid_vader_neu','text_sid_vader_pos'], inplace=True, axis=1)\n",
    "df.loc[df['stars'] <= 2, 'sentiment'] = -1\n",
    "df.loc[df['stars'] == 3, 'sentiment'] = 0\n",
    "df.loc[df['stars'] >= 4, 'sentiment'] = 1\n",
    "\n",
    "df.sample(3)"
   ]
  },
  {
   "attachments": {},
   "cell_type": "markdown",
   "metadata": {},
   "source": [
    "#### Downloading large spacy model (~1min)"
   ]
  },
  {
   "cell_type": "code",
   "execution_count": 64,
   "metadata": {},
   "outputs": [],
   "source": [
    "%%capture\n",
    "!python -m spacy download en_core_web_lg"
   ]
  },
  {
   "attachments": {},
   "cell_type": "markdown",
   "metadata": {},
   "source": [
    "#### Tokenizing and vectorizing data with spaCy (~1min20s)"
   ]
  },
  {
   "cell_type": "code",
   "execution_count": 65,
   "metadata": {},
   "outputs": [
    {
     "data": {
      "text/html": [
       "<div>\n",
       "<style scoped>\n",
       "    .dataframe tbody tr th:only-of-type {\n",
       "        vertical-align: middle;\n",
       "    }\n",
       "\n",
       "    .dataframe tbody tr th {\n",
       "        vertical-align: top;\n",
       "    }\n",
       "\n",
       "    .dataframe thead th {\n",
       "        text-align: right;\n",
       "    }\n",
       "</style>\n",
       "<table border=\"1\" class=\"dataframe\">\n",
       "  <thead>\n",
       "    <tr style=\"text-align: right;\">\n",
       "      <th></th>\n",
       "      <th>stars</th>\n",
       "      <th>text</th>\n",
       "      <th>text_clean</th>\n",
       "      <th>text_sid_vader_compound</th>\n",
       "      <th>text_sid_textblob_polarity</th>\n",
       "      <th>sentiment</th>\n",
       "      <th>text_vector</th>\n",
       "    </tr>\n",
       "  </thead>\n",
       "  <tbody>\n",
       "    <tr>\n",
       "      <th>0</th>\n",
       "      <td>1</td>\n",
       "      <td>With just one device connected 4G+ speed 90mbp...</td>\n",
       "      <td>with just one devic connect 4g speed 90mbps do...</td>\n",
       "      <td>-0.4497</td>\n",
       "      <td>-0.075556</td>\n",
       "      <td>-1.0</td>\n",
       "      <td>[0.047985982, 0.18046616, -0.12221394, -0.0184...</td>\n",
       "    </tr>\n",
       "    <tr>\n",
       "      <th>1</th>\n",
       "      <td>1</td>\n",
       "      <td>Very very very bad institution established on ...</td>\n",
       "      <td>veri veri veri bad institut establish on lie a...</td>\n",
       "      <td>-0.8074</td>\n",
       "      <td>-0.700000</td>\n",
       "      <td>-1.0</td>\n",
       "      <td>[-0.018163197, 0.0702172, -0.18188098, -0.0809...</td>\n",
       "    </tr>\n",
       "    <tr>\n",
       "      <th>2</th>\n",
       "      <td>1</td>\n",
       "      <td>Do not buy from eaflyer-0/Logan Thompson under...</td>\n",
       "      <td>do not buy from eaflyer-0/logan thompson under...</td>\n",
       "      <td>0.0000</td>\n",
       "      <td>0.000000</td>\n",
       "      <td>-1.0</td>\n",
       "      <td>[-0.019247098, 0.12531255, -0.20478028, 0.0374...</td>\n",
       "    </tr>\n",
       "    <tr>\n",
       "      <th>3</th>\n",
       "      <td>1</td>\n",
       "      <td>Sold a set of 50 State Quarters Coin &amp; Die set...</td>\n",
       "      <td>sold a set of 50 state quarter coin die set bu...</td>\n",
       "      <td>-0.5719</td>\n",
       "      <td>0.100000</td>\n",
       "      <td>-1.0</td>\n",
       "      <td>[-0.012113103, 0.18576728, -0.19512364, -0.038...</td>\n",
       "    </tr>\n",
       "    <tr>\n",
       "      <th>4</th>\n",
       "      <td>1</td>\n",
       "      <td>Why do I not sell on eBay because of one word ...</td>\n",
       "      <td>whi do i not sell on ebay becaus of one word –...</td>\n",
       "      <td>0.0000</td>\n",
       "      <td>0.000000</td>\n",
       "      <td>-1.0</td>\n",
       "      <td>[-0.12315243, 0.16000786, -0.094708346, -0.027...</td>\n",
       "    </tr>\n",
       "  </tbody>\n",
       "</table>\n",
       "</div>"
      ],
      "text/plain": [
       "   stars                                               text  \\\n",
       "0      1  With just one device connected 4G+ speed 90mbp...   \n",
       "1      1  Very very very bad institution established on ...   \n",
       "2      1  Do not buy from eaflyer-0/Logan Thompson under...   \n",
       "3      1  Sold a set of 50 State Quarters Coin & Die set...   \n",
       "4      1  Why do I not sell on eBay because of one word ...   \n",
       "\n",
       "                                          text_clean  text_sid_vader_compound  \\\n",
       "0  with just one devic connect 4g speed 90mbps do...                  -0.4497   \n",
       "1  veri veri veri bad institut establish on lie a...                  -0.8074   \n",
       "2  do not buy from eaflyer-0/logan thompson under...                   0.0000   \n",
       "3  sold a set of 50 state quarter coin die set bu...                  -0.5719   \n",
       "4  whi do i not sell on ebay becaus of one word –...                   0.0000   \n",
       "\n",
       "   text_sid_textblob_polarity  sentiment  \\\n",
       "0                   -0.075556       -1.0   \n",
       "1                   -0.700000       -1.0   \n",
       "2                    0.000000       -1.0   \n",
       "3                    0.100000       -1.0   \n",
       "4                    0.000000       -1.0   \n",
       "\n",
       "                                         text_vector  \n",
       "0  [0.047985982, 0.18046616, -0.12221394, -0.0184...  \n",
       "1  [-0.018163197, 0.0702172, -0.18188098, -0.0809...  \n",
       "2  [-0.019247098, 0.12531255, -0.20478028, 0.0374...  \n",
       "3  [-0.012113103, 0.18576728, -0.19512364, -0.038...  \n",
       "4  [-0.12315243, 0.16000786, -0.094708346, -0.027...  "
      ]
     },
     "execution_count": 65,
     "metadata": {},
     "output_type": "execute_result"
    }
   ],
   "source": [
    "nlp = spacy.load('en_core_web_lg')\n",
    "\n",
    "def vectorize_text(text):\n",
    "    doc = nlp(text)\n",
    "    return doc.vector\n",
    "\n",
    "df['text_vector'] = df['text_clean'].apply(vectorize_text)\n",
    "df.head()"
   ]
  },
  {
   "attachments": {},
   "cell_type": "markdown",
   "metadata": {},
   "source": [
    "#### Training models and evaluating them (Random Forest Classifier & Support Vector Machine)"
   ]
  },
  {
   "cell_type": "code",
   "execution_count": 66,
   "metadata": {},
   "outputs": [],
   "source": [
    "# Features & Target\n",
    "X = df['text_vector'].tolist()\n",
    "Y = df['sentiment']\n",
    "\n",
    "# Split\n",
    "X_train, X_test, y_train, y_test = train_test_split(X, Y, test_size=0.2, random_state=42)"
   ]
  },
  {
   "cell_type": "code",
   "execution_count": 67,
   "metadata": {},
   "outputs": [
    {
     "name": "stdout",
     "output_type": "stream",
     "text": [
      "              precision    recall  f1-score   support\n",
      "\n",
      "        -1.0       0.76      0.74      0.75       513\n",
      "         0.0       0.38      0.19      0.26       212\n",
      "         1.0       0.68      0.84      0.75       475\n",
      "\n",
      "    accuracy                           0.69      1200\n",
      "   macro avg       0.61      0.59      0.59      1200\n",
      "weighted avg       0.66      0.69      0.66      1200\n",
      "\n"
     ]
    }
   ],
   "source": [
    "# Fit & predict \n",
    "rf_clf = RandomForestClassifier()\n",
    "rf_clf.fit(X_train, y_train)\n",
    "y_pred = rf_clf.predict(X_test)\n",
    "\n",
    "# Classification metrics\n",
    "print(classification_report(y_test, y_pred))"
   ]
  },
  {
   "cell_type": "code",
   "execution_count": 69,
   "metadata": {},
   "outputs": [
    {
     "name": "stdout",
     "output_type": "stream",
     "text": [
      "              precision    recall  f1-score   support\n",
      "\n",
      "        -1.0       0.75      0.85      0.80       513\n",
      "         0.0       0.49      0.26      0.34       212\n",
      "         1.0       0.78      0.84      0.81       475\n",
      "\n",
      "    accuracy                           0.74      1200\n",
      "   macro avg       0.67      0.65      0.65      1200\n",
      "weighted avg       0.72      0.74      0.72      1200\n",
      "\n"
     ]
    }
   ],
   "source": [
    "# Fit & predict\n",
    "svm_clf = SVC()\n",
    "svm_clf.fit(X_train, y_train)\n",
    "y_pred = svm_clf.predict(X_test)\n",
    "\n",
    "# Classification metrics\n",
    "print(classification_report(y_test, y_pred))"
   ]
  },
  {
   "cell_type": "code",
   "execution_count": 70,
   "metadata": {},
   "outputs": [
    {
     "data": {
      "image/png": "[encoded data removed]",
      "text/plain": [
       "<Figure size 640x480 with 2 Axes>"
      ]
     },
     "metadata": {},
     "output_type": "display_data"
    }
   ],
   "source": [
    "# Confusion matrix with false positives and false negatives\n",
    "ConfusionMatrixDisplay.from_estimator(rf_clf, X_test, y_test, normalize=\"all\")\n",
    "plt.title(\"Confusion Matrix\")\n",
    "plt.show()"
   ]
  }
 ],
 "metadata": {
  "kernelspec": {
   "display_name": "htw_project",
   "language": "python",
   "name": "python3"
  },
  "language_info": {
   "codemirror_mode": {
    "name": "ipython",
    "version": 3
   },
   "file_extension": ".py",
   "mimetype": "text/x-python",
   "name": "python",
   "nbconvert_exporter": "python",
   "pygments_lexer": "ipython3",
   "version": "3.10.8"
  },
  "orig_nbformat": 4,
  "vscode": {
   "interpreter": {
    "hash": "c84abd037fdd82b3268711dc773b4e5645e34747d2e16f247ac51a14948548b0"
   }
  }
 },
 "nbformat": 4,
 "nbformat_minor": 2
}
