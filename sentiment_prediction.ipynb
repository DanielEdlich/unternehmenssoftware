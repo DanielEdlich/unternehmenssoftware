{
 "cells": [
  {
   "attachments": {},
   "cell_type": "markdown",
   "metadata": {},
   "source": [
    "## Sentiment Prediction using Random Forest Classifier & SVM"
   ]
  },
  {
   "cell_type": "code",
   "execution_count": 3,
   "metadata": {},
   "outputs": [
    {
     "data": {
      "text/html": [
       "<div>\n",
       "<style scoped>\n",
       "    .dataframe tbody tr th:only-of-type {\n",
       "        vertical-align: middle;\n",
       "    }\n",
       "\n",
       "    .dataframe tbody tr th {\n",
       "        vertical-align: top;\n",
       "    }\n",
       "\n",
       "    .dataframe thead th {\n",
       "        text-align: right;\n",
       "    }\n",
       "</style>\n",
       "<table border=\"1\" class=\"dataframe\">\n",
       "  <thead>\n",
       "    <tr style=\"text-align: right;\">\n",
       "      <th></th>\n",
       "      <th>stars</th>\n",
       "      <th>title</th>\n",
       "      <th>text</th>\n",
       "      <th>text_clean</th>\n",
       "      <th>sentiment</th>\n",
       "      <th>text_sid_vader_neg</th>\n",
       "      <th>text_sid_vader_neu</th>\n",
       "      <th>text_sid_vader_pos</th>\n",
       "      <th>text_sid_vader_compound</th>\n",
       "      <th>text_sid_textblob_polarity</th>\n",
       "    </tr>\n",
       "  </thead>\n",
       "  <tbody>\n",
       "    <tr>\n",
       "      <th>8553</th>\n",
       "      <td>1</td>\n",
       "      <td>Trade in is a Con</td>\n",
       "      <td>Purchased 2 iPhone 13 minis. I chose Apple as ...</td>\n",
       "      <td>purchas 2 iphon 13 mini i chose appl as they h...</td>\n",
       "      <td>negative</td>\n",
       "      <td>0.035</td>\n",
       "      <td>0.965</td>\n",
       "      <td>0.000</td>\n",
       "      <td>-0.2960</td>\n",
       "      <td>0.078125</td>\n",
       "    </tr>\n",
       "    <tr>\n",
       "      <th>12766</th>\n",
       "      <td>2</td>\n",
       "      <td>Google is bombarding me with unwanted…</td>\n",
       "      <td>Google is bombarding me with unwanted material...</td>\n",
       "      <td>googl is bombard me with unwant materi and is ...</td>\n",
       "      <td>neutral</td>\n",
       "      <td>0.092</td>\n",
       "      <td>0.908</td>\n",
       "      <td>0.000</td>\n",
       "      <td>-0.5221</td>\n",
       "      <td>-0.056667</td>\n",
       "    </tr>\n",
       "    <tr>\n",
       "      <th>4082</th>\n",
       "      <td>5</td>\n",
       "      <td>Very good service</td>\n",
       "      <td>Very good service, never had a problem with th...</td>\n",
       "      <td>veri good servic never had a problem with the ...</td>\n",
       "      <td>positive</td>\n",
       "      <td>0.000</td>\n",
       "      <td>0.576</td>\n",
       "      <td>0.424</td>\n",
       "      <td>0.6319</td>\n",
       "      <td>0.700000</td>\n",
       "    </tr>\n",
       "  </tbody>\n",
       "</table>\n",
       "</div>"
      ],
      "text/plain": [
       "       stars                                   title  \\\n",
       "8553       1                       Trade in is a Con   \n",
       "12766      2  Google is bombarding me with unwanted…   \n",
       "4082       5                       Very good service   \n",
       "\n",
       "                                                    text  \\\n",
       "8553   Purchased 2 iPhone 13 minis. I chose Apple as ...   \n",
       "12766  Google is bombarding me with unwanted material...   \n",
       "4082   Very good service, never had a problem with th...   \n",
       "\n",
       "                                              text_clean sentiment  \\\n",
       "8553   purchas 2 iphon 13 mini i chose appl as they h...  negative   \n",
       "12766  googl is bombard me with unwant materi and is ...   neutral   \n",
       "4082   veri good servic never had a problem with the ...  positive   \n",
       "\n",
       "       text_sid_vader_neg  text_sid_vader_neu  text_sid_vader_pos  \\\n",
       "8553                0.035               0.965               0.000   \n",
       "12766               0.092               0.908               0.000   \n",
       "4082                0.000               0.576               0.424   \n",
       "\n",
       "       text_sid_vader_compound  text_sid_textblob_polarity  \n",
       "8553                   -0.2960                    0.078125  \n",
       "12766                  -0.5221                   -0.056667  \n",
       "4082                    0.6319                    0.700000  "
      ]
     },
     "execution_count": 3,
     "metadata": {},
     "output_type": "execute_result"
    }
   ],
   "source": [
    "import spacy\n",
    "import sklearn\n",
    "import joblib\n",
    "import pandas as pd\n",
    "import numpy as np\n",
    "import matplotlib.pyplot as plt\n",
    "from scipy.stats import randint, uniform\n",
    "from sklearn.model_selection import train_test_split, RandomizedSearchCV, GridSearchCV\n",
    "from sklearn.ensemble import RandomForestClassifier\n",
    "from sklearn.svm import SVC\n",
    "from sklearn.metrics import classification_report, ConfusionMatrixDisplay\n",
    "\n",
    "# Load pre-processed data\n",
    "df = pd.read_csv(\"data/all_cleaned\")\n",
    "df.sample(3)"
   ]
  },
  {
   "attachments": {},
   "cell_type": "markdown",
   "metadata": {},
   "source": [
    "#### Quick bucket size check"
   ]
  },
  {
   "cell_type": "code",
   "execution_count": 9,
   "metadata": {},
   "outputs": [
    {
     "data": {
      "text/plain": [
       "negative    0.333333\n",
       "neutral     0.333333\n",
       "positive    0.333333\n",
       "Name: sentiment, dtype: float64"
      ]
     },
     "execution_count": 9,
     "metadata": {},
     "output_type": "execute_result"
    }
   ],
   "source": [
    "df[\"sentiment\"].value_counts(normalize=True)"
   ]
  },
  {
   "attachments": {},
   "cell_type": "markdown",
   "metadata": {},
   "source": [
    "#### Downloading large spacy model (~700 MB)"
   ]
  },
  {
   "cell_type": "code",
   "execution_count": 4,
   "metadata": {},
   "outputs": [],
   "source": [
    "%%capture\n",
    "!python -m spacy download en_core_web_lg"
   ]
  },
  {
   "attachments": {},
   "cell_type": "markdown",
   "metadata": {},
   "source": [
    "#### Tokenizing and vectorizing data with spaCy (3-5 mins)"
   ]
  },
  {
   "cell_type": "code",
   "execution_count": 5,
   "metadata": {},
   "outputs": [
    {
     "data": {
      "text/html": [
       "<div>\n",
       "<style scoped>\n",
       "    .dataframe tbody tr th:only-of-type {\n",
       "        vertical-align: middle;\n",
       "    }\n",
       "\n",
       "    .dataframe tbody tr th {\n",
       "        vertical-align: top;\n",
       "    }\n",
       "\n",
       "    .dataframe thead th {\n",
       "        text-align: right;\n",
       "    }\n",
       "</style>\n",
       "<table border=\"1\" class=\"dataframe\">\n",
       "  <thead>\n",
       "    <tr style=\"text-align: right;\">\n",
       "      <th></th>\n",
       "      <th>stars</th>\n",
       "      <th>title</th>\n",
       "      <th>text</th>\n",
       "      <th>text_clean</th>\n",
       "      <th>sentiment</th>\n",
       "      <th>text_sid_vader_neg</th>\n",
       "      <th>text_sid_vader_neu</th>\n",
       "      <th>text_sid_vader_pos</th>\n",
       "      <th>text_sid_vader_compound</th>\n",
       "      <th>text_sid_textblob_polarity</th>\n",
       "      <th>text_vector</th>\n",
       "    </tr>\n",
       "  </thead>\n",
       "  <tbody>\n",
       "    <tr>\n",
       "      <th>0</th>\n",
       "      <td>1</td>\n",
       "      <td>Had 5G speed plummet from 400mbps down…</td>\n",
       "      <td>With just one device connected 4G+ speed 90mbp...</td>\n",
       "      <td>with just one devic connect 4g speed 90mbps do...</td>\n",
       "      <td>negative</td>\n",
       "      <td>0.050</td>\n",
       "      <td>0.934</td>\n",
       "      <td>0.016</td>\n",
       "      <td>-0.4497</td>\n",
       "      <td>-0.075556</td>\n",
       "      <td>[0.047985982, 0.18046616, -0.12221394, -0.0184...</td>\n",
       "    </tr>\n",
       "    <tr>\n",
       "      <th>1</th>\n",
       "      <td>1</td>\n",
       "      <td>Very Slow</td>\n",
       "      <td>Very Slow - avoid this company Recently signed...</td>\n",
       "      <td>veri slow avoid this compani recent sign up af...</td>\n",
       "      <td>negative</td>\n",
       "      <td>0.017</td>\n",
       "      <td>0.828</td>\n",
       "      <td>0.154</td>\n",
       "      <td>0.9294</td>\n",
       "      <td>0.089815</td>\n",
       "      <td>[-0.043955635, 0.159388, -0.21402094, -0.04922...</td>\n",
       "    </tr>\n",
       "    <tr>\n",
       "      <th>2</th>\n",
       "      <td>2</td>\n",
       "      <td>Underwhelming service and functionality</td>\n",
       "      <td>I have been using the service for about 3 mont...</td>\n",
       "      <td>i have been use the servic for about 3 month g...</td>\n",
       "      <td>neutral</td>\n",
       "      <td>0.127</td>\n",
       "      <td>0.804</td>\n",
       "      <td>0.069</td>\n",
       "      <td>-0.6496</td>\n",
       "      <td>0.080000</td>\n",
       "      <td>[0.0295655, 0.13602999, -0.17271744, -0.102811...</td>\n",
       "    </tr>\n",
       "    <tr>\n",
       "      <th>3</th>\n",
       "      <td>1</td>\n",
       "      <td>I can't wait to switch VPNs</td>\n",
       "      <td>I can't wait to switch VPNs. Every time my PC ...</td>\n",
       "      <td>i can't wait to switch vpns everi time my pc a...</td>\n",
       "      <td>negative</td>\n",
       "      <td>0.105</td>\n",
       "      <td>0.870</td>\n",
       "      <td>0.025</td>\n",
       "      <td>-0.8126</td>\n",
       "      <td>-0.012500</td>\n",
       "      <td>[0.09425794, 0.10422098, -0.14998992, -0.05015...</td>\n",
       "    </tr>\n",
       "    <tr>\n",
       "      <th>4</th>\n",
       "      <td>1</td>\n",
       "      <td>Horrible</td>\n",
       "      <td>Horrible.   Beware!!   I signed up and after m...</td>\n",
       "      <td>horribl bewar i sign up and after multipl atte...</td>\n",
       "      <td>negative</td>\n",
       "      <td>0.048</td>\n",
       "      <td>0.884</td>\n",
       "      <td>0.068</td>\n",
       "      <td>0.5267</td>\n",
       "      <td>-0.145833</td>\n",
       "      <td>[0.029379677, 0.12570287, -0.22697774, 0.02288...</td>\n",
       "    </tr>\n",
       "  </tbody>\n",
       "</table>\n",
       "</div>"
      ],
      "text/plain": [
       "   stars                                    title  \\\n",
       "0      1  Had 5G speed plummet from 400mbps down…   \n",
       "1      1                                Very Slow   \n",
       "2      2  Underwhelming service and functionality   \n",
       "3      1              I can't wait to switch VPNs   \n",
       "4      1                                 Horrible   \n",
       "\n",
       "                                                text  \\\n",
       "0  With just one device connected 4G+ speed 90mbp...   \n",
       "1  Very Slow - avoid this company Recently signed...   \n",
       "2  I have been using the service for about 3 mont...   \n",
       "3  I can't wait to switch VPNs. Every time my PC ...   \n",
       "4  Horrible.   Beware!!   I signed up and after m...   \n",
       "\n",
       "                                          text_clean sentiment  \\\n",
       "0  with just one devic connect 4g speed 90mbps do...  negative   \n",
       "1  veri slow avoid this compani recent sign up af...  negative   \n",
       "2  i have been use the servic for about 3 month g...   neutral   \n",
       "3  i can't wait to switch vpns everi time my pc a...  negative   \n",
       "4  horribl bewar i sign up and after multipl atte...  negative   \n",
       "\n",
       "   text_sid_vader_neg  text_sid_vader_neu  text_sid_vader_pos  \\\n",
       "0               0.050               0.934               0.016   \n",
       "1               0.017               0.828               0.154   \n",
       "2               0.127               0.804               0.069   \n",
       "3               0.105               0.870               0.025   \n",
       "4               0.048               0.884               0.068   \n",
       "\n",
       "   text_sid_vader_compound  text_sid_textblob_polarity  \\\n",
       "0                  -0.4497                   -0.075556   \n",
       "1                   0.9294                    0.089815   \n",
       "2                  -0.6496                    0.080000   \n",
       "3                  -0.8126                   -0.012500   \n",
       "4                   0.5267                   -0.145833   \n",
       "\n",
       "                                         text_vector  \n",
       "0  [0.047985982, 0.18046616, -0.12221394, -0.0184...  \n",
       "1  [-0.043955635, 0.159388, -0.21402094, -0.04922...  \n",
       "2  [0.0295655, 0.13602999, -0.17271744, -0.102811...  \n",
       "3  [0.09425794, 0.10422098, -0.14998992, -0.05015...  \n",
       "4  [0.029379677, 0.12570287, -0.22697774, 0.02288...  "
      ]
     },
     "execution_count": 5,
     "metadata": {},
     "output_type": "execute_result"
    }
   ],
   "source": [
    "nlp = spacy.load('en_core_web_lg')\n",
    "\n",
    "def vectorize_text(text):\n",
    "    doc = nlp(text)\n",
    "    return doc.vector\n",
    "\n",
    "df['text_vector'] = df['text_clean'].apply(vectorize_text)\n",
    "df.head()"
   ]
  },
  {
   "attachments": {},
   "cell_type": "markdown",
   "metadata": {},
   "source": [
    "#### Training models and evaluating them (Random Forest Classifier & Support Vector Machine)"
   ]
  },
  {
   "cell_type": "code",
   "execution_count": 10,
   "metadata": {},
   "outputs": [],
   "source": [
    "# Features & Target\n",
    "X = df['text_vector'].tolist()\n",
    "Y = df['sentiment']\n",
    "\n",
    "# Split\n",
    "X_train, X_test, y_train, y_test = train_test_split(X, Y, test_size=0.2, random_state=42)"
   ]
  },
  {
   "cell_type": "code",
   "execution_count": 28,
   "metadata": {},
   "outputs": [
    {
     "name": "stdout",
     "output_type": "stream",
     "text": [
      "              precision    recall  f1-score   support\n",
      "\n",
      "    negative       0.75      0.81      0.78       915\n",
      "     neutral       0.67      0.59      0.63       882\n",
      "    positive       0.80      0.82      0.81       914\n",
      "\n",
      "    accuracy                           0.75      2711\n",
      "   macro avg       0.74      0.74      0.74      2711\n",
      "weighted avg       0.74      0.75      0.74      2711\n",
      "\n"
     ]
    }
   ],
   "source": [
    "# Fit & predict \n",
    "rf_clf = RandomForestClassifier(n_estimators=121, max_depth=7, min_samples_split=5, min_samples_leaf=3)\n",
    "rf_clf.fit(X_train, y_train)\n",
    "y_pred = rf_clf.predict(X_test)\n",
    "\n",
    "# Classification metrics\n",
    "print(classification_report(y_test, y_pred))"
   ]
  },
  {
   "cell_type": "code",
   "execution_count": 29,
   "metadata": {},
   "outputs": [
    {
     "data": {
      "image/png": "[encoded data removed]",
      "text/plain": [
       "<Figure size 640x480 with 2 Axes>"
      ]
     },
     "metadata": {},
     "output_type": "display_data"
    }
   ],
   "source": [
    "# Confusion matrix of the first model\n",
    "ConfusionMatrixDisplay.from_estimator(rf_clf, X_test, y_test, normalize=\"all\")\n",
    "plt.title(\"Confusion Matrix - Random Forest Classification\")\n",
    "plt.show()"
   ]
  },
  {
   "cell_type": "code",
   "execution_count": 30,
   "metadata": {},
   "outputs": [
    {
     "name": "stdout",
     "output_type": "stream",
     "text": [
      "              precision    recall  f1-score   support\n",
      "\n",
      "    negative       0.82      0.87      0.84       915\n",
      "     neutral       0.76      0.71      0.73       882\n",
      "    positive       0.88      0.88      0.88       914\n",
      "\n",
      "    accuracy                           0.82      2711\n",
      "   macro avg       0.82      0.82      0.82      2711\n",
      "weighted avg       0.82      0.82      0.82      2711\n",
      "\n"
     ]
    }
   ],
   "source": [
    "# Fit & predict\n",
    "svm_clf = SVC(C=10, degree=2, gamma='scale', kernel='rbf')\n",
    "svm_clf.fit(X_train, y_train)\n",
    "y_pred = svm_clf.predict(X_test)\n",
    "\n",
    "# Classification metrics\n",
    "print(classification_report(y_test, y_pred))"
   ]
  },
  {
   "cell_type": "code",
   "execution_count": 31,
   "metadata": {},
   "outputs": [
    {
     "data": {
      "image/png": "[encoded data removed]",
      "text/plain": [
       "<Figure size 640x480 with 2 Axes>"
      ]
     },
     "metadata": {},
     "output_type": "display_data"
    }
   ],
   "source": [
    "# Confusion matrix of the second model\n",
    "ConfusionMatrixDisplay.from_estimator(svm_clf, X_test, y_test, normalize=\"all\")\n",
    "plt.title(\"Confusion Matrix - Support Vector Classification\")\n",
    "plt.show()"
   ]
  },
  {
   "attachments": {},
   "cell_type": "markdown",
   "metadata": {},
   "source": [
    "#### Hyperparameter tuning (Random Forest Classifier)"
   ]
  },
  {
   "cell_type": "code",
   "execution_count": 23,
   "metadata": {},
   "outputs": [
    {
     "name": "stdout",
     "output_type": "stream",
     "text": [
      "Best hyperparameters:  {'max_depth': 7, 'min_samples_leaf': 3, 'min_samples_split': 5, 'n_estimators': 121}\n"
     ]
    }
   ],
   "source": [
    "# Tuning model using RandomizedSearchCV\n",
    "param_dist = {\n",
    "            'n_estimators': randint(50, 200),\n",
    "            'max_depth': randint(2, 8),\n",
    "            'min_samples_split': randint(2, 6),\n",
    "            'min_samples_leaf': randint(1, 4)\n",
    "             }\n",
    "\n",
    "random_search = RandomizedSearchCV(rf_clf, param_distributions=param_dist, n_iter=50, cv=5)\n",
    "random_search.fit(X_train, y_train)\n",
    "\n",
    "print(\"Best hyperparameters: \", random_search.best_params_)\n"
   ]
  },
  {
   "cell_type": "code",
   "execution_count": null,
   "metadata": {},
   "outputs": [],
   "source": [
    "# Tuning model using GridSearchCV\n",
    "param_grid = {\n",
    "            'n_estimators': [120, 121, 122],\n",
    "            'max_depth': [6, 7, 8],\n",
    "            'min_samples_split': [4, 5, 6],\n",
    "            'min_samples_leaf': [2, 3, 4]\n",
    "             }\n",
    "\n",
    "# Could additionaly try these parameters\n",
    "# \"max_features\": ['auto', 'sqrt', 'log2']\n",
    "# \"bootstrap\": [True, False]\n",
    "              \n",
    "grid_search = GridSearchCV(rf_clf, param_grid, cv=5)\n",
    "grid_search.fit(X_train, y_train)\n",
    "\n",
    "print(\"Best hyperparameters: \", grid_search.best_params_)"
   ]
  },
  {
   "attachments": {},
   "cell_type": "markdown",
   "metadata": {},
   "source": [
    "#### Hyperparameter tuning (Support Vector Machine)"
   ]
  },
  {
   "cell_type": "code",
   "execution_count": 24,
   "metadata": {},
   "outputs": [
    {
     "name": "stdout",
     "output_type": "stream",
     "text": [
      "Best hyperparameters:  {'C': 9.985439082465788, 'degree': 2, 'gamma': 'scale', 'kernel': 'rbf'}\n"
     ]
    }
   ],
   "source": [
    "# Tuning model using RandomizedSearchCV\n",
    "param_dist = {\n",
    "            'C': uniform(0, 10), \n",
    "            'kernel': ['linear', 'rbf', 'poly'], \n",
    "            'degree': range(2, 6), \n",
    "            'gamma': ['scale', 'auto']\n",
    "             }\n",
    "\n",
    "random_search = RandomizedSearchCV(svm_clf, param_distributions=param_dist, n_iter=50, cv=5)\n",
    "random_search.fit(X_train, y_train)\n",
    "\n",
    "print(\"Best hyperparameters: \", random_search.best_params_)"
   ]
  },
  {
   "cell_type": "code",
   "execution_count": null,
   "metadata": {},
   "outputs": [],
   "source": [
    "# Tuning model using GridSearchCV\n",
    "param_grid = {\n",
    "            'C': [0.1, 1, 10, 100],\n",
    "            'kernel': ['linear', 'rbf', 'poly'],\n",
    "            'degree': [2, 3, 4],\n",
    "            'gamma': ['scale', 'auto']\n",
    "             }\n",
    "              \n",
    "# Could additionaly try these parameters\n",
    "# \"class_weight\": ['balanced', None]\n",
    "# \"random_state\": [1, 42, 100, None]\n",
    "\n",
    "grid_search = GridSearchCV(svm_clf, param_grid, cv=5)\n",
    "grid_search.fit(X_train, y_train)\n",
    "\n",
    "print(\"Best hyperparameters: \", grid_search.best_params_)"
   ]
  },
  {
   "attachments": {},
   "cell_type": "markdown",
   "metadata": {},
   "source": [
    "#### Export the trained models"
   ]
  },
  {
   "cell_type": "code",
   "execution_count": 32,
   "metadata": {},
   "outputs": [
    {
     "data": {
      "text/plain": [
       "['trained_models/svm_trained.pkl']"
      ]
     },
     "execution_count": 32,
     "metadata": {},
     "output_type": "execute_result"
    }
   ],
   "source": [
    "joblib.dump(rf_clf, 'trained_models/rf_trained.pkl')\n",
    "joblib.dump(svm_clf, 'trained_models/svm_trained.pkl')"
   ]
  },
  {
   "attachments": {},
   "cell_type": "markdown",
   "metadata": {},
   "source": [
    "#### Load the trained models and test them"
   ]
  },
  {
   "cell_type": "code",
   "execution_count": 40,
   "metadata": {},
   "outputs": [
    {
     "name": "stdout",
     "output_type": "stream",
     "text": [
      "RF model sentiment prediction:  ['neutral']\n",
      "SVM model sentiment prediction:  ['neutral']\n"
     ]
    }
   ],
   "source": [
    "rf_trained = joblib.load(\"trained_models/rf_trained.pkl\")\n",
    "svm_trained = joblib.load(\"trained_models/svm_trained.pkl\")\n",
    "\n",
    "test_review = input(\"Enter your review: \")\n",
    "test_review_vector = vectorize_text(test_review).reshape(1, -1)\n",
    "\n",
    "prediction_rf = rf_trained.predict(test_review_vector)\n",
    "prediction_svm = svm_trained.predict(test_review_vector)\n",
    "\n",
    "print(\"RF model sentiment prediction: \", prediction_rf)\n",
    "print(\"SVM model sentiment prediction: \", prediction_svm)"
   ]
  }
 ],
 "metadata": {
  "kernelspec": {
   "display_name": "htw_project",
   "language": "python",
   "name": "python3"
  },
  "language_info": {
   "codemirror_mode": {
    "name": "ipython",
    "version": 3
   },
   "file_extension": ".py",
   "mimetype": "text/x-python",
   "name": "python",
   "nbconvert_exporter": "python",
   "pygments_lexer": "ipython3",
   "version": "3.10.8"
  },
  "orig_nbformat": 4,
  "vscode": {
   "interpreter": {
    "hash": "c84abd037fdd82b3268711dc773b4e5645e34747d2e16f247ac51a14948548b0"
   }
  }
 },
 "nbformat": 4,
 "nbformat_minor": 2
}
