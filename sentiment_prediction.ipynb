{
 "cells": [
  {
   "attachments": {},
   "cell_type": "markdown",
   "metadata": {},
   "source": [
    "## Sentiment Prediction using Random Forest Classifier & SVM"
   ]
  },
  {
   "attachments": {},
   "cell_type": "markdown",
   "metadata": {},
   "source": [
    "#### Welcome to the modelling part of the project!"
   ]
  },
  {
   "attachments": {},
   "cell_type": "markdown",
   "metadata": {},
   "source": [
    "> For quick test of the trained models, please only run the four cells below until you reach the first -**border line**-"
   ]
  },
  {
   "cell_type": "code",
   "execution_count": 1,
   "metadata": {},
   "outputs": [
    {
     "data": {
      "text/html": [
       "<div>\n",
       "<style scoped>\n",
       "    .dataframe tbody tr th:only-of-type {\n",
       "        vertical-align: middle;\n",
       "    }\n",
       "\n",
       "    .dataframe tbody tr th {\n",
       "        vertical-align: top;\n",
       "    }\n",
       "\n",
       "    .dataframe thead th {\n",
       "        text-align: right;\n",
       "    }\n",
       "</style>\n",
       "<table border=\"1\" class=\"dataframe\">\n",
       "  <thead>\n",
       "    <tr style=\"text-align: right;\">\n",
       "      <th></th>\n",
       "      <th>stars</th>\n",
       "      <th>title</th>\n",
       "      <th>text</th>\n",
       "      <th>text_clean</th>\n",
       "      <th>sentiment</th>\n",
       "      <th>text_sid_vader_neg</th>\n",
       "      <th>text_sid_vader_neu</th>\n",
       "      <th>text_sid_vader_pos</th>\n",
       "      <th>text_sid_vader_compound</th>\n",
       "      <th>text_sid_textblob_polarity</th>\n",
       "    </tr>\n",
       "  </thead>\n",
       "  <tbody>\n",
       "    <tr>\n",
       "      <th>2012</th>\n",
       "      <td>1</td>\n",
       "      <td>It’s probably just me</td>\n",
       "      <td>It’s probably just me, but I have yet to figur...</td>\n",
       "      <td>it’ probabl just me but i have yet to figur ou...</td>\n",
       "      <td>negative</td>\n",
       "      <td>0.104</td>\n",
       "      <td>0.896</td>\n",
       "      <td>0.000</td>\n",
       "      <td>-0.5267</td>\n",
       "      <td>0.500000</td>\n",
       "    </tr>\n",
       "    <tr>\n",
       "      <th>1141</th>\n",
       "      <td>2</td>\n",
       "      <td>Resetting Password - Get ready to know your bl...</td>\n",
       "      <td>42 minutes later i was able to get logged back...</td>\n",
       "      <td>42 minut later i was abl to get log back into ...</td>\n",
       "      <td>negative</td>\n",
       "      <td>0.000</td>\n",
       "      <td>0.937</td>\n",
       "      <td>0.063</td>\n",
       "      <td>0.4497</td>\n",
       "      <td>0.119481</td>\n",
       "    </tr>\n",
       "    <tr>\n",
       "      <th>1308</th>\n",
       "      <td>5</td>\n",
       "      <td>Iranian tyrant regime cut off the access of 85...</td>\n",
       "      <td>as you may knowwe are under heaviest internet ...</td>\n",
       "      <td>as you may knoww are under heaviest internet c...</td>\n",
       "      <td>positive</td>\n",
       "      <td>0.044</td>\n",
       "      <td>0.870</td>\n",
       "      <td>0.085</td>\n",
       "      <td>0.3400</td>\n",
       "      <td>0.400000</td>\n",
       "    </tr>\n",
       "  </tbody>\n",
       "</table>\n",
       "</div>"
      ],
      "text/plain": [
       "      stars                                              title  \\\n",
       "2012      1                              It’s probably just me   \n",
       "1141      2  Resetting Password - Get ready to know your bl...   \n",
       "1308      5  Iranian tyrant regime cut off the access of 85...   \n",
       "\n",
       "                                                   text  \\\n",
       "2012  It’s probably just me, but I have yet to figur...   \n",
       "1141  42 minutes later i was able to get logged back...   \n",
       "1308  as you may knowwe are under heaviest internet ...   \n",
       "\n",
       "                                             text_clean sentiment  \\\n",
       "2012  it’ probabl just me but i have yet to figur ou...  negative   \n",
       "1141  42 minut later i was abl to get log back into ...  negative   \n",
       "1308  as you may knoww are under heaviest internet c...  positive   \n",
       "\n",
       "      text_sid_vader_neg  text_sid_vader_neu  text_sid_vader_pos  \\\n",
       "2012               0.104               0.896               0.000   \n",
       "1141               0.000               0.937               0.063   \n",
       "1308               0.044               0.870               0.085   \n",
       "\n",
       "      text_sid_vader_compound  text_sid_textblob_polarity  \n",
       "2012                  -0.5267                    0.500000  \n",
       "1141                   0.4497                    0.119481  \n",
       "1308                   0.3400                    0.400000  "
      ]
     },
     "execution_count": 1,
     "metadata": {},
     "output_type": "execute_result"
    }
   ],
   "source": [
    "import spacy\n",
    "import sklearn\n",
    "import joblib\n",
    "import pandas as pd\n",
    "import numpy as np\n",
    "import matplotlib.pyplot as plt\n",
    "from scipy.stats import randint, uniform\n",
    "from sklearn.model_selection import train_test_split, RandomizedSearchCV, GridSearchCV\n",
    "from sklearn.ensemble import RandomForestClassifier\n",
    "from sklearn.svm import SVC\n",
    "from sklearn.metrics import classification_report, ConfusionMatrixDisplay, accuracy_score\n",
    "from sklearn.dummy import DummyClassifier\n",
    "\n",
    "# Load pre-processed data\n",
    "df = pd.read_csv(\"data/all_cleaned_alt\")\n",
    "df.sample(3)"
   ]
  },
  {
   "attachments": {},
   "cell_type": "markdown",
   "metadata": {},
   "source": [
    "#### Downloading large spacy model (~700 MB)"
   ]
  },
  {
   "cell_type": "code",
   "execution_count": 2,
   "metadata": {},
   "outputs": [],
   "source": [
    "%%capture\n",
    "!python -m spacy download en_core_web_lg"
   ]
  },
  {
   "attachments": {},
   "cell_type": "markdown",
   "metadata": {},
   "source": [
    "#### Tokenizing, cleaning and vectorizing data with spaCy (1-2 mins)"
   ]
  },
  {
   "cell_type": "code",
   "execution_count": 3,
   "metadata": {},
   "outputs": [],
   "source": [
    "# defining the spaCy pipeline\n",
    "nlp = spacy.load(\"en_core_web_lg\")\n",
    "\n",
    "def clean_text(text):\n",
    "    doc = nlp(text)\n",
    "    tokens = [\n",
    "                token.lemma_.lower() for token in doc if\n",
    "                token.is_stop == False and\n",
    "                token.is_oov == False and\n",
    "                token.is_alpha == True\n",
    "    ]\n",
    "    return \" \".join(tokens)\n",
    "\n",
    "def vectorize_text(text):\n",
    "    doc = nlp(text)\n",
    "    return doc.vector"
   ]
  },
  {
   "attachments": {},
   "cell_type": "markdown",
   "metadata": {},
   "source": [
    "#### Load the trained models and test them"
   ]
  },
  {
   "cell_type": "code",
   "execution_count": 4,
   "metadata": {},
   "outputs": [
    {
     "name": "stdout",
     "output_type": "stream",
     "text": [
      "Review: It's would be great if to be able to a list view in the library. I like to collect lots of different artists, now it's hard for me to navigate it. Also, some times I need quick access to lyrics of the current song, but how I can see, in current time, is not able. I think I would stay with Apple Music.\n",
      "\n",
      "RF model sentiment prediction:  ['neutral']\n",
      "SVM model sentiment prediction:  ['neutral']\n"
     ]
    }
   ],
   "source": [
    "rf_trained = joblib.load(\"trained_models/rf_trained.pkl\")\n",
    "svm_trained = joblib.load(\"trained_models/svm_trained.pkl\")\n",
    "\n",
    "test_input = input(\"Enter your review: \")\n",
    "test_review_vector = vectorize_text(clean_text(test_input)).reshape(1, -1)\n",
    "\n",
    "prediction_rf = rf_trained.predict(test_review_vector)\n",
    "prediction_svm = svm_trained.predict(test_review_vector)\n",
    "\n",
    "print(\"Review: \"+test_input+\"\\n\")\n",
    "print(\"RF model sentiment prediction: \", prediction_rf)\n",
    "print(\"SVM model sentiment prediction: \", prediction_svm)"
   ]
  },
  {
   "attachments": {},
   "cell_type": "markdown",
   "metadata": {},
   "source": [
    "---"
   ]
  },
  {
   "attachments": {},
   "cell_type": "markdown",
   "metadata": {},
   "source": [
    "> If you wish to train the models yourself and evaluate their performance after, feel free to run the rest of the cells until you reach the second -**border line**-"
   ]
  },
  {
   "cell_type": "code",
   "execution_count": null,
   "metadata": {},
   "outputs": [],
   "source": [
    "# applying the new pre-processing pipeline to the data\n",
    "df[\"text_clean_alt\"] = df[\"text\"].apply(clean_text)\n",
    "df[\"text_vector\"] = df[\"text_clean_alt\"].apply(vectorize_text)\n",
    "df.head()"
   ]
  },
  {
   "attachments": {},
   "cell_type": "markdown",
   "metadata": {},
   "source": [
    "#### Quick class size check"
   ]
  },
  {
   "cell_type": "code",
   "execution_count": 381,
   "metadata": {},
   "outputs": [
    {
     "data": {
      "text/plain": [
       "negative    0.333333\n",
       "positive    0.333333\n",
       "neutral     0.333333\n",
       "Name: sentiment, dtype: float64"
      ]
     },
     "execution_count": 381,
     "metadata": {},
     "output_type": "execute_result"
    }
   ],
   "source": [
    "df[\"sentiment\"].value_counts(normalize=True)"
   ]
  },
  {
   "attachments": {},
   "cell_type": "markdown",
   "metadata": {},
   "source": [
    "#### Training models and evaluating them (Random Forest Classifier & Support Vector Machine)"
   ]
  },
  {
   "cell_type": "code",
   "execution_count": 444,
   "metadata": {},
   "outputs": [],
   "source": [
    "# Features & Target\n",
    "X = df[\"text_vector\"].tolist()\n",
    "Y = df[\"sentiment\"]\n",
    "\n",
    "# Split\n",
    "X_train, X_test, y_train, y_test = train_test_split(X, Y, test_size=0.2, random_state=42)"
   ]
  },
  {
   "cell_type": "code",
   "execution_count": 527,
   "metadata": {},
   "outputs": [
    {
     "name": "stdout",
     "output_type": "stream",
     "text": [
      "              precision    recall  f1-score   support\n",
      "\n",
      "    negative       0.74      0.79      0.76       243\n",
      "     neutral       0.74      0.72      0.73       227\n",
      "    positive       0.91      0.87      0.89       252\n",
      "\n",
      "    accuracy                           0.80       722\n",
      "   macro avg       0.79      0.79      0.79       722\n",
      "weighted avg       0.80      0.80      0.80       722\n",
      "\n"
     ]
    }
   ],
   "source": [
    "# Fit & predict \n",
    "rf_clf = RandomForestClassifier(random_state=19)\n",
    "rf_clf.fit(X_train, y_train)\n",
    "y_pred_rf = rf_clf.predict(X_test)\n",
    "\n",
    "# Classification metrics\n",
    "print(classification_report(y_test, y_pred_rf))"
   ]
  },
  {
   "cell_type": "code",
   "execution_count": 535,
   "metadata": {},
   "outputs": [
    {
     "data": {
      "image/png": "[encoded data removed]",
      "text/plain": [
       "<Figure size 640x480 with 2 Axes>"
      ]
     },
     "metadata": {},
     "output_type": "display_data"
    }
   ],
   "source": [
    "# Confusion matrix of the Random Forest Classification model\n",
    "ConfusionMatrixDisplay.from_estimator(rf_clf, X_test, y_test, normalize=\"all\")\n",
    "plt.title(\"Confusion Matrix - Random Forest Classification\")\n",
    "plt.show()"
   ]
  },
  {
   "cell_type": "code",
   "execution_count": 533,
   "metadata": {},
   "outputs": [
    {
     "name": "stdout",
     "output_type": "stream",
     "text": [
      "              precision    recall  f1-score   support\n",
      "\n",
      "    negative       0.75      0.81      0.78       243\n",
      "     neutral       0.76      0.72      0.74       227\n",
      "    positive       0.93      0.91      0.92       252\n",
      "\n",
      "    accuracy                           0.82       722\n",
      "   macro avg       0.81      0.81      0.81       722\n",
      "weighted avg       0.82      0.82      0.82       722\n",
      "\n"
     ]
    }
   ],
   "source": [
    "# Fit & predict\n",
    "svm_clf = SVC(\n",
    "    C=90.2272283049515, \n",
    "    degree=2, \n",
    "    gamma=\"auto\", \n",
    "    kernel=\"rbf\", \n",
    "    class_weight=\"balanced\", \n",
    "    random_state=105)\n",
    "svm_clf.fit(X_train, y_train)\n",
    "y_pred_svm = svm_clf.predict(X_test)\n",
    "\n",
    "# Classification metrics\n",
    "print(classification_report(y_test, y_pred_svm))"
   ]
  },
  {
   "cell_type": "code",
   "execution_count": 534,
   "metadata": {},
   "outputs": [
    {
     "data": {
      "image/png": "[encoded data removed]",
      "text/plain": [
       "<Figure size 640x480 with 2 Axes>"
      ]
     },
     "metadata": {},
     "output_type": "display_data"
    }
   ],
   "source": [
    "# Confusion matrix of the SVM model\n",
    "ConfusionMatrixDisplay.from_estimator(svm_clf, X_test, y_test, normalize=\"all\")\n",
    "plt.title(\"Confusion Matrix - Support Vector Classification\")\n",
    "plt.show()"
   ]
  },
  {
   "cell_type": "code",
   "execution_count": 536,
   "metadata": {},
   "outputs": [
    {
     "name": "stdout",
     "output_type": "stream",
     "text": [
      "Dummy accuracy: 0.314404432132964\n",
      "Random Forest accuracy: 0.7950138504155124\n",
      "Support Vector Machine accuracy: 0.8157894736842105\n"
     ]
    }
   ],
   "source": [
    "dummy = DummyClassifier(strategy=\"most_frequent\")\n",
    "dummy.fit(X_train, y_train)\n",
    "y_pred_dummy = dummy.predict(X_test)\n",
    "\n",
    "# Calculate the accuracy for the dummy and both models\n",
    "accuracy_dummy = accuracy_score(y_test, y_pred_dummy)\n",
    "accuracy_rf = accuracy_score(y_test, y_pred_rf)\n",
    "accuracy_svm = accuracy_score(y_test, y_pred_svm)\n",
    "print(\"Dummy accuracy:\", accuracy_dummy)\n",
    "print(\"Random Forest accuracy:\", accuracy_rf)\n",
    "print(\"Support Vector Machine accuracy:\", accuracy_svm)"
   ]
  },
  {
   "attachments": {},
   "cell_type": "markdown",
   "metadata": {},
   "source": [
    "---"
   ]
  },
  {
   "attachments": {},
   "cell_type": "markdown",
   "metadata": {},
   "source": [
    "#### Export the trained models"
   ]
  },
  {
   "cell_type": "code",
   "execution_count": 537,
   "metadata": {},
   "outputs": [
    {
     "data": {
      "text/plain": [
       "['trained_models/svm_trained.pkl']"
      ]
     },
     "execution_count": 537,
     "metadata": {},
     "output_type": "execute_result"
    }
   ],
   "source": [
    "joblib.dump(rf_clf, \"trained_models/rf_trained.pkl\")\n",
    "joblib.dump(svm_clf, \"trained_models/svm_trained.pkl\")"
   ]
  },
  {
   "attachments": {},
   "cell_type": "markdown",
   "metadata": {},
   "source": [
    "#### Hyperparameter tuning (Random Forest Classifier)"
   ]
  },
  {
   "cell_type": "code",
   "execution_count": 443,
   "metadata": {},
   "outputs": [
    {
     "name": "stdout",
     "output_type": "stream",
     "text": [
      "Best hyperparameters:  {'bootstrap': True, 'max_depth': 7, 'max_features': 'auto', 'min_samples_leaf': 3, 'min_samples_split': 4, 'n_estimators': 120}\n"
     ]
    }
   ],
   "source": [
    "# Tuning model using RandomizedSearchCV\n",
    "param_dist = {\n",
    "            \"n_estimators\": randint(50, 300),\n",
    "            \"max_depth\": randint(2, 8),\n",
    "            \"min_samples_split\": randint(2, 6),\n",
    "            \"min_samples_leaf\": randint(1, 4),\n",
    "            \"max_features\": [\"auto\", \"sqrt\", \"log2\"],\n",
    "            \"bootstrap\": [True, False]\n",
    "}\n",
    "\n",
    "random_search = RandomizedSearchCV(\n",
    "    rf_clf, \n",
    "    param_distributions=param_dist, \n",
    "    n_iter=50, \n",
    "    cv=5)\n",
    "random_search.fit(X_train, y_train)\n",
    "\n",
    "print(\"Best hyperparameters: \", random_search.best_params_)\n"
   ]
  },
  {
   "cell_type": "code",
   "execution_count": 260,
   "metadata": {},
   "outputs": [
    {
     "name": "stdout",
     "output_type": "stream",
     "text": [
      "Best hyperparameters:  {'bootstrap': False, 'max_depth': 7, 'max_features': 'auto', 'min_samples_leaf': 3, 'min_samples_split': 5, 'n_estimators': 121}\n"
     ]
    }
   ],
   "source": [
    "# Tuning model using GridSearchCV\n",
    "param_grid = {\n",
    "            \"n_estimators\": [121],\n",
    "            \"max_depth\": [7],\n",
    "            \"min_samples_split\": [5],\n",
    "            \"min_samples_leaf\": [3],\n",
    "            \"max_features\": [\"auto\", \"sqrt\", \"log2\"],\n",
    "            \"bootstrap\": [True, False]\n",
    "}\n",
    "              \n",
    "grid_search = GridSearchCV(rf_clf, param_grid, cv=5)\n",
    "grid_search.fit(X_train, y_train)\n",
    "\n",
    "print(\"Best hyperparameters: \", grid_search.best_params_)"
   ]
  },
  {
   "attachments": {},
   "cell_type": "markdown",
   "metadata": {},
   "source": [
    "#### Hyperparameter tuning (Support Vector Machine)"
   ]
  },
  {
   "cell_type": "code",
   "execution_count": 442,
   "metadata": {},
   "outputs": [
    {
     "name": "stdout",
     "output_type": "stream",
     "text": [
      "Best hyperparameters:  {'C': 90.2272283049515, 'class_weight': 'balanced', 'degree': 2, 'gamma': 'auto', 'kernel': 'rbf', 'random_state': 100}\n"
     ]
    }
   ],
   "source": [
    "# Tuning model using RandomizedSearchCV\n",
    "param_dist = {\n",
    "            \"C\": uniform(0, 100), \n",
    "            \"kernel\": [\"linear\", \"rbf\", \"poly\"], \n",
    "            \"degree\": range(2, 6), \n",
    "            \"gamma\": [\"scale\", \"auto\"],\n",
    "            \"class_weight\": [\"balanced\", None],\n",
    "            \"random_state\": [1, 42, 100, None]\n",
    "}\n",
    "\n",
    "random_search = RandomizedSearchCV(\n",
    "    svm_clf, \n",
    "    param_distributions=param_dist, \n",
    "    n_iter=50, \n",
    "    cv=5)\n",
    "random_search.fit(X_train, y_train)\n",
    "\n",
    "print(\"Best hyperparameters: \", random_search.best_params_)"
   ]
  },
  {
   "cell_type": "code",
   "execution_count": 271,
   "metadata": {},
   "outputs": [
    {
     "name": "stdout",
     "output_type": "stream",
     "text": [
      "Best hyperparameters:  {'C': 10, 'class_weight': None, 'degree': 2, 'gamma': 'scale', 'kernel': 'rbf', 'random_state': 1}\n"
     ]
    }
   ],
   "source": [
    "# Tuning model using GridSearchCV\n",
    "param_grid = {\n",
    "            \"C\": [10, 30, 50, 70, 90],\n",
    "            \"kernel\": [\"rbf\"],\n",
    "            \"degree\": [2],\n",
    "            \"gamma\": [\"scale\"],\n",
    "            \"class_weight\": [\"balanced\", None],\n",
    "            \"random_state\": [1, 42, 100, None]\n",
    "}\n",
    "              \n",
    "grid_search = GridSearchCV(svm_clf, param_grid, cv=5)\n",
    "grid_search.fit(X_train, y_train)\n",
    "\n",
    "print(\"Best hyperparameters: \", grid_search.best_params_)"
   ]
  },
  {
   "attachments": {},
   "cell_type": "markdown",
   "metadata": {},
   "source": [
    "#### Pre-processing pipeline testing"
   ]
  },
  {
   "cell_type": "code",
   "execution_count": 422,
   "metadata": {},
   "outputs": [
    {
     "name": "stdout",
     "output_type": "stream",
     "text": [
      "believe waste money vpn bad service\n",
      "(1, 300)\n"
     ]
    }
   ],
   "source": [
    "# Checking text pre-processing and vectorization on example reviews\n",
    "test_review = \"I can't believe I have wasted !!! so much money 123 on VPN. Very bad $$ service. Never again.\"\n",
    "\n",
    "test_clean = clean_text(test_review)\n",
    "print(test_clean)\n",
    "\n",
    "vector = vectorize_text(test_clean).reshape(1, -1)\n",
    "print(vector.shape)\n",
    "\n",
    "# Feel free to take one of these reviews for testing\n",
    "# ---\n",
    "# I have 3 ALexas at home!! Get very good soon what love all of them amazing stuff! \\U0001F600-\\U0001F64F amazon.com\n",
    "# I can't believe I have wasted !!! so much money 123 on VPN. Very bad $$ service. Never again.\n",
    "# I absolutely *** hate Apple! Their customer support is the worst!\n",
    "# I absolutely $$ the at a love Google!!1 They wadawd 123 3124 $$ are the best!\n",
    "# "
   ]
  }
 ],
 "metadata": {
  "kernelspec": {
   "display_name": "htw_project",
   "language": "python",
   "name": "python3"
  },
  "language_info": {
   "codemirror_mode": {
    "name": "ipython",
    "version": 3
   },
   "file_extension": ".py",
   "mimetype": "text/x-python",
   "name": "python",
   "nbconvert_exporter": "python",
   "pygments_lexer": "ipython3",
   "version": "3.10.9 | packaged by conda-forge | (main, Jan 11 2023, 15:15:40) [MSC v.1916 64 bit (AMD64)]"
  },
  "orig_nbformat": 4,
  "vscode": {
   "interpreter": {
    "hash": "2a211c05501a9249167c1cca736772a2815a0891fa1eac7a35b0301f1901e370"
   }
  }
 },
 "nbformat": 4,
 "nbformat_minor": 2
}
