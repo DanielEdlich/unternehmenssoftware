{
 "cells": [
  {
   "cell_type": "code",
   "execution_count": 10,
   "metadata": {},
   "outputs": [],
   "source": [
    "from bs4 import BeautifulSoup\n",
    "import requests\n",
    "import pandas as pd\n",
    "import re\n"
   ]
  },
  {
   "cell_type": "code",
   "execution_count": 11,
   "metadata": {},
   "outputs": [],
   "source": [
    "max_pages = 500 + 1\n",
    "# result_df = pd.DataFrame()\n",
    "\n",
    "# website = 'www.apple.com'\n",
    "website_list = [\n",
    "    'www.apple.com', 'www.google.com', 'www.microsoft.com', 'www.facebook.com', 'www.twitter.com',\n",
    "    'www.amazon.com', 'www.ebay.com', 'www.porkbun.com', 'www.godaddy.com', 'www.1password.com', 'nordvpn.com']\n"
   ]
  },
  {
   "cell_type": "code",
   "execution_count": 12,
   "metadata": {},
   "outputs": [],
   "source": [
    "def get_reviews_from_page(page, website):\n",
    "    return_df = pd.DataFrame()\n",
    "    articles = page.find_all('article')\n",
    "\n",
    "    for article in articles:\n",
    "        country = article.find_next('aside').find_all('span')[-1].string\n",
    "\n",
    "        article_section = article.find_next('section')\n",
    "        stars = re.search(r'\\d+', article_section.find('img')['alt']).group()\n",
    "        date = article_section.find('time')['datetime']\n",
    "        title = article_section.find('h2').string\n",
    "        text_raw = article_section.find('p').contents\n",
    "        text = ' '.join(line.text for line in text_raw if line.text != '')\n",
    "\n",
    "        return_df = pd.concat(\n",
    "            [return_df, pd.DataFrame(\n",
    "                [{'site': website, 'date': date, 'stars': stars, 'title': title, 'text': text, 'location': country}])],\n",
    "            ignore_index=True)\n",
    "\n",
    "    return return_df\n"
   ]
  },
  {
   "cell_type": "code",
   "execution_count": 13,
   "metadata": {},
   "outputs": [],
   "source": [
    "def scrape_reviews_for_website(url):\n",
    "\n",
    "    result_df = pd.DataFrame()\n",
    "\n",
    "    soup = BeautifulSoup(requests.get(\n",
    "        f'https://www.trustpilot.com/review/' + url).text, 'lxml')\n",
    "    max_available_pages = int(\n",
    "        soup.find('a', {'name': 'pagination-button-last'}).find('span').string) + 1\n",
    "\n",
    "    # already fetched site - no need for duplicate fetching\n",
    "    result_df = pd.concat(\n",
    "        [result_df, get_reviews_from_page(soup, url)], ignore_index=True)\n",
    "\n",
    "    for index in range(2, max_available_pages if max_pages > max_available_pages else max_pages):\n",
    "        page = BeautifulSoup(requests.get(\n",
    "            f'https://www.trustpilot.com/review/' + url + '?page=' + str(index)).text, 'lxml')\n",
    "        result_df = pd.concat(\n",
    "            [result_df, get_reviews_from_page(page, url)], ignore_index=True)\n",
    "\n",
    "    result_df.to_csv('data/' + url + ' - Trustpilot.csv')\n"
   ]
  },
  {
   "cell_type": "code",
   "execution_count": 14,
   "metadata": {
    "collapsed": false
   },
   "outputs": [
    {
     "ename": "KeyboardInterrupt",
     "evalue": "",
     "output_type": "error",
     "traceback": [
      "\u001B[1;31m---------------------------------------------------------------------------\u001B[0m",
      "\u001B[1;31mKeyboardInterrupt\u001B[0m                         Traceback (most recent call last)",
      "Cell \u001B[1;32mIn[14], line 2\u001B[0m\n\u001B[0;32m      1\u001B[0m \u001B[39mfor\u001B[39;00m website \u001B[39min\u001B[39;00m website_list:\n\u001B[1;32m----> 2\u001B[0m     scrape_reviews_for_website(website)\n",
      "Cell \u001B[1;32mIn[13], line 15\u001B[0m, in \u001B[0;36mscrape_reviews_for_website\u001B[1;34m(url)\u001B[0m\n\u001B[0;32m     11\u001B[0m result_df \u001B[39m=\u001B[39m pd\u001B[39m.\u001B[39mconcat(\n\u001B[0;32m     12\u001B[0m     [result_df, get_reviews_from_page(soup, url)], ignore_index\u001B[39m=\u001B[39m\u001B[39mTrue\u001B[39;00m)\n\u001B[0;32m     14\u001B[0m \u001B[39mfor\u001B[39;00m index \u001B[39min\u001B[39;00m \u001B[39mrange\u001B[39m(\u001B[39m2\u001B[39m, max_available_pages \u001B[39mif\u001B[39;00m max_pages \u001B[39m>\u001B[39m max_available_pages \u001B[39melse\u001B[39;00m max_pages):\n\u001B[1;32m---> 15\u001B[0m     page \u001B[39m=\u001B[39m BeautifulSoup(requests\u001B[39m.\u001B[39;49mget(\n\u001B[0;32m     16\u001B[0m         \u001B[39mf\u001B[39;49m\u001B[39m'\u001B[39;49m\u001B[39mhttps://www.trustpilot.com/review/\u001B[39;49m\u001B[39m'\u001B[39;49m \u001B[39m+\u001B[39;49m url \u001B[39m+\u001B[39;49m \u001B[39m'\u001B[39;49m\u001B[39m?page=\u001B[39;49m\u001B[39m'\u001B[39;49m \u001B[39m+\u001B[39;49m \u001B[39mstr\u001B[39;49m(index))\u001B[39m.\u001B[39mtext, \u001B[39m'\u001B[39m\u001B[39mlxml\u001B[39m\u001B[39m'\u001B[39m)\n\u001B[0;32m     17\u001B[0m     result_df \u001B[39m=\u001B[39m pd\u001B[39m.\u001B[39mconcat(\n\u001B[0;32m     18\u001B[0m         [result_df, get_reviews_from_page(page, url)], ignore_index\u001B[39m=\u001B[39m\u001B[39mTrue\u001B[39;00m)\n\u001B[0;32m     20\u001B[0m result_df\u001B[39m.\u001B[39mto_csv(\u001B[39m'\u001B[39m\u001B[39mdata/\u001B[39m\u001B[39m'\u001B[39m \u001B[39m+\u001B[39m url \u001B[39m+\u001B[39m \u001B[39m'\u001B[39m\u001B[39m - Trustpilot.csv\u001B[39m\u001B[39m'\u001B[39m)\n",
      "File \u001B[1;32mc:\\tools\\Anaconda3\\envs\\htw_project\\lib\\site-packages\\requests\\api.py:73\u001B[0m, in \u001B[0;36mget\u001B[1;34m(url, params, **kwargs)\u001B[0m\n\u001B[0;32m     62\u001B[0m \u001B[39mdef\u001B[39;00m \u001B[39mget\u001B[39m(url, params\u001B[39m=\u001B[39m\u001B[39mNone\u001B[39;00m, \u001B[39m*\u001B[39m\u001B[39m*\u001B[39mkwargs):\n\u001B[0;32m     63\u001B[0m     \u001B[39mr\u001B[39m\u001B[39m\"\"\"Sends a GET request.\u001B[39;00m\n\u001B[0;32m     64\u001B[0m \n\u001B[0;32m     65\u001B[0m \u001B[39m    :param url: URL for the new :class:`Request` object.\u001B[39;00m\n\u001B[1;32m   (...)\u001B[0m\n\u001B[0;32m     70\u001B[0m \u001B[39m    :rtype: requests.Response\u001B[39;00m\n\u001B[0;32m     71\u001B[0m \u001B[39m    \"\"\"\u001B[39;00m\n\u001B[1;32m---> 73\u001B[0m     \u001B[39mreturn\u001B[39;00m request(\u001B[39m\"\u001B[39m\u001B[39mget\u001B[39m\u001B[39m\"\u001B[39m, url, params\u001B[39m=\u001B[39mparams, \u001B[39m*\u001B[39m\u001B[39m*\u001B[39mkwargs)\n",
      "File \u001B[1;32mc:\\tools\\Anaconda3\\envs\\htw_project\\lib\\site-packages\\requests\\api.py:59\u001B[0m, in \u001B[0;36mrequest\u001B[1;34m(method, url, **kwargs)\u001B[0m\n\u001B[0;32m     55\u001B[0m \u001B[39m# By using the 'with' statement we are sure the session is closed, thus we\u001B[39;00m\n\u001B[0;32m     56\u001B[0m \u001B[39m# avoid leaving sockets open which can trigger a ResourceWarning in some\u001B[39;00m\n\u001B[0;32m     57\u001B[0m \u001B[39m# cases, and look like a memory leak in others.\u001B[39;00m\n\u001B[0;32m     58\u001B[0m \u001B[39mwith\u001B[39;00m sessions\u001B[39m.\u001B[39mSession() \u001B[39mas\u001B[39;00m session:\n\u001B[1;32m---> 59\u001B[0m     \u001B[39mreturn\u001B[39;00m session\u001B[39m.\u001B[39mrequest(method\u001B[39m=\u001B[39mmethod, url\u001B[39m=\u001B[39murl, \u001B[39m*\u001B[39m\u001B[39m*\u001B[39mkwargs)\n",
      "File \u001B[1;32mc:\\tools\\Anaconda3\\envs\\htw_project\\lib\\site-packages\\requests\\sessions.py:587\u001B[0m, in \u001B[0;36mSession.request\u001B[1;34m(self, method, url, params, data, headers, cookies, files, auth, timeout, allow_redirects, proxies, hooks, stream, verify, cert, json)\u001B[0m\n\u001B[0;32m    582\u001B[0m send_kwargs \u001B[39m=\u001B[39m {\n\u001B[0;32m    583\u001B[0m     \u001B[39m\"\u001B[39m\u001B[39mtimeout\u001B[39m\u001B[39m\"\u001B[39m: timeout,\n\u001B[0;32m    584\u001B[0m     \u001B[39m\"\u001B[39m\u001B[39mallow_redirects\u001B[39m\u001B[39m\"\u001B[39m: allow_redirects,\n\u001B[0;32m    585\u001B[0m }\n\u001B[0;32m    586\u001B[0m send_kwargs\u001B[39m.\u001B[39mupdate(settings)\n\u001B[1;32m--> 587\u001B[0m resp \u001B[39m=\u001B[39m \u001B[39mself\u001B[39m\u001B[39m.\u001B[39msend(prep, \u001B[39m*\u001B[39m\u001B[39m*\u001B[39msend_kwargs)\n\u001B[0;32m    589\u001B[0m \u001B[39mreturn\u001B[39;00m resp\n",
      "File \u001B[1;32mc:\\tools\\Anaconda3\\envs\\htw_project\\lib\\site-packages\\requests\\sessions.py:701\u001B[0m, in \u001B[0;36mSession.send\u001B[1;34m(self, request, **kwargs)\u001B[0m\n\u001B[0;32m    698\u001B[0m start \u001B[39m=\u001B[39m preferred_clock()\n\u001B[0;32m    700\u001B[0m \u001B[39m# Send the request\u001B[39;00m\n\u001B[1;32m--> 701\u001B[0m r \u001B[39m=\u001B[39m adapter\u001B[39m.\u001B[39msend(request, \u001B[39m*\u001B[39m\u001B[39m*\u001B[39mkwargs)\n\u001B[0;32m    703\u001B[0m \u001B[39m# Total elapsed time of the request (approximately)\u001B[39;00m\n\u001B[0;32m    704\u001B[0m elapsed \u001B[39m=\u001B[39m preferred_clock() \u001B[39m-\u001B[39m start\n",
      "File \u001B[1;32mc:\\tools\\Anaconda3\\envs\\htw_project\\lib\\site-packages\\requests\\adapters.py:489\u001B[0m, in \u001B[0;36mHTTPAdapter.send\u001B[1;34m(self, request, stream, timeout, verify, cert, proxies)\u001B[0m\n\u001B[0;32m    487\u001B[0m \u001B[39mtry\u001B[39;00m:\n\u001B[0;32m    488\u001B[0m     \u001B[39mif\u001B[39;00m \u001B[39mnot\u001B[39;00m chunked:\n\u001B[1;32m--> 489\u001B[0m         resp \u001B[39m=\u001B[39m conn\u001B[39m.\u001B[39;49murlopen(\n\u001B[0;32m    490\u001B[0m             method\u001B[39m=\u001B[39;49mrequest\u001B[39m.\u001B[39;49mmethod,\n\u001B[0;32m    491\u001B[0m             url\u001B[39m=\u001B[39;49murl,\n\u001B[0;32m    492\u001B[0m             body\u001B[39m=\u001B[39;49mrequest\u001B[39m.\u001B[39;49mbody,\n\u001B[0;32m    493\u001B[0m             headers\u001B[39m=\u001B[39;49mrequest\u001B[39m.\u001B[39;49mheaders,\n\u001B[0;32m    494\u001B[0m             redirect\u001B[39m=\u001B[39;49m\u001B[39mFalse\u001B[39;49;00m,\n\u001B[0;32m    495\u001B[0m             assert_same_host\u001B[39m=\u001B[39;49m\u001B[39mFalse\u001B[39;49;00m,\n\u001B[0;32m    496\u001B[0m             preload_content\u001B[39m=\u001B[39;49m\u001B[39mFalse\u001B[39;49;00m,\n\u001B[0;32m    497\u001B[0m             decode_content\u001B[39m=\u001B[39;49m\u001B[39mFalse\u001B[39;49;00m,\n\u001B[0;32m    498\u001B[0m             retries\u001B[39m=\u001B[39;49m\u001B[39mself\u001B[39;49m\u001B[39m.\u001B[39;49mmax_retries,\n\u001B[0;32m    499\u001B[0m             timeout\u001B[39m=\u001B[39;49mtimeout,\n\u001B[0;32m    500\u001B[0m         )\n\u001B[0;32m    502\u001B[0m     \u001B[39m# Send the request.\u001B[39;00m\n\u001B[0;32m    503\u001B[0m     \u001B[39melse\u001B[39;00m:\n\u001B[0;32m    504\u001B[0m         \u001B[39mif\u001B[39;00m \u001B[39mhasattr\u001B[39m(conn, \u001B[39m\"\u001B[39m\u001B[39mproxy_pool\u001B[39m\u001B[39m\"\u001B[39m):\n",
      "File \u001B[1;32mc:\\tools\\Anaconda3\\envs\\htw_project\\lib\\site-packages\\urllib3\\connectionpool.py:703\u001B[0m, in \u001B[0;36mHTTPConnectionPool.urlopen\u001B[1;34m(self, method, url, body, headers, retries, redirect, assert_same_host, timeout, pool_timeout, release_conn, chunked, body_pos, **response_kw)\u001B[0m\n\u001B[0;32m    700\u001B[0m     \u001B[39mself\u001B[39m\u001B[39m.\u001B[39m_prepare_proxy(conn)\n\u001B[0;32m    702\u001B[0m \u001B[39m# Make the request on the httplib connection object.\u001B[39;00m\n\u001B[1;32m--> 703\u001B[0m httplib_response \u001B[39m=\u001B[39m \u001B[39mself\u001B[39;49m\u001B[39m.\u001B[39;49m_make_request(\n\u001B[0;32m    704\u001B[0m     conn,\n\u001B[0;32m    705\u001B[0m     method,\n\u001B[0;32m    706\u001B[0m     url,\n\u001B[0;32m    707\u001B[0m     timeout\u001B[39m=\u001B[39;49mtimeout_obj,\n\u001B[0;32m    708\u001B[0m     body\u001B[39m=\u001B[39;49mbody,\n\u001B[0;32m    709\u001B[0m     headers\u001B[39m=\u001B[39;49mheaders,\n\u001B[0;32m    710\u001B[0m     chunked\u001B[39m=\u001B[39;49mchunked,\n\u001B[0;32m    711\u001B[0m )\n\u001B[0;32m    713\u001B[0m \u001B[39m# If we're going to release the connection in ``finally:``, then\u001B[39;00m\n\u001B[0;32m    714\u001B[0m \u001B[39m# the response doesn't need to know about the connection. Otherwise\u001B[39;00m\n\u001B[0;32m    715\u001B[0m \u001B[39m# it will also try to release it and we'll have a double-release\u001B[39;00m\n\u001B[0;32m    716\u001B[0m \u001B[39m# mess.\u001B[39;00m\n\u001B[0;32m    717\u001B[0m response_conn \u001B[39m=\u001B[39m conn \u001B[39mif\u001B[39;00m \u001B[39mnot\u001B[39;00m release_conn \u001B[39melse\u001B[39;00m \u001B[39mNone\u001B[39;00m\n",
      "File \u001B[1;32mc:\\tools\\Anaconda3\\envs\\htw_project\\lib\\site-packages\\urllib3\\connectionpool.py:386\u001B[0m, in \u001B[0;36mHTTPConnectionPool._make_request\u001B[1;34m(self, conn, method, url, timeout, chunked, **httplib_request_kw)\u001B[0m\n\u001B[0;32m    384\u001B[0m \u001B[39m# Trigger any extra validation we need to do.\u001B[39;00m\n\u001B[0;32m    385\u001B[0m \u001B[39mtry\u001B[39;00m:\n\u001B[1;32m--> 386\u001B[0m     \u001B[39mself\u001B[39;49m\u001B[39m.\u001B[39;49m_validate_conn(conn)\n\u001B[0;32m    387\u001B[0m \u001B[39mexcept\u001B[39;00m (SocketTimeout, BaseSSLError) \u001B[39mas\u001B[39;00m e:\n\u001B[0;32m    388\u001B[0m     \u001B[39m# Py2 raises this as a BaseSSLError, Py3 raises it as socket timeout.\u001B[39;00m\n\u001B[0;32m    389\u001B[0m     \u001B[39mself\u001B[39m\u001B[39m.\u001B[39m_raise_timeout(err\u001B[39m=\u001B[39me, url\u001B[39m=\u001B[39murl, timeout_value\u001B[39m=\u001B[39mconn\u001B[39m.\u001B[39mtimeout)\n",
      "File \u001B[1;32mc:\\tools\\Anaconda3\\envs\\htw_project\\lib\\site-packages\\urllib3\\connectionpool.py:1042\u001B[0m, in \u001B[0;36mHTTPSConnectionPool._validate_conn\u001B[1;34m(self, conn)\u001B[0m\n\u001B[0;32m   1040\u001B[0m \u001B[39m# Force connect early to allow us to validate the connection.\u001B[39;00m\n\u001B[0;32m   1041\u001B[0m \u001B[39mif\u001B[39;00m \u001B[39mnot\u001B[39;00m \u001B[39mgetattr\u001B[39m(conn, \u001B[39m\"\u001B[39m\u001B[39msock\u001B[39m\u001B[39m\"\u001B[39m, \u001B[39mNone\u001B[39;00m):  \u001B[39m# AppEngine might not have  `.sock`\u001B[39;00m\n\u001B[1;32m-> 1042\u001B[0m     conn\u001B[39m.\u001B[39;49mconnect()\n\u001B[0;32m   1044\u001B[0m \u001B[39mif\u001B[39;00m \u001B[39mnot\u001B[39;00m conn\u001B[39m.\u001B[39mis_verified:\n\u001B[0;32m   1045\u001B[0m     warnings\u001B[39m.\u001B[39mwarn(\n\u001B[0;32m   1046\u001B[0m         (\n\u001B[0;32m   1047\u001B[0m             \u001B[39m\"\u001B[39m\u001B[39mUnverified HTTPS request is being made to host \u001B[39m\u001B[39m'\u001B[39m\u001B[39m%s\u001B[39;00m\u001B[39m'\u001B[39m\u001B[39m. \u001B[39m\u001B[39m\"\u001B[39m\n\u001B[1;32m   (...)\u001B[0m\n\u001B[0;32m   1052\u001B[0m         InsecureRequestWarning,\n\u001B[0;32m   1053\u001B[0m     )\n",
      "File \u001B[1;32mc:\\tools\\Anaconda3\\envs\\htw_project\\lib\\site-packages\\urllib3\\connection.py:414\u001B[0m, in \u001B[0;36mHTTPSConnection.connect\u001B[1;34m(self)\u001B[0m\n\u001B[0;32m    405\u001B[0m \u001B[39mif\u001B[39;00m (\n\u001B[0;32m    406\u001B[0m     \u001B[39mnot\u001B[39;00m \u001B[39mself\u001B[39m\u001B[39m.\u001B[39mca_certs\n\u001B[0;32m    407\u001B[0m     \u001B[39mand\u001B[39;00m \u001B[39mnot\u001B[39;00m \u001B[39mself\u001B[39m\u001B[39m.\u001B[39mca_cert_dir\n\u001B[1;32m   (...)\u001B[0m\n\u001B[0;32m    410\u001B[0m     \u001B[39mand\u001B[39;00m \u001B[39mhasattr\u001B[39m(context, \u001B[39m\"\u001B[39m\u001B[39mload_default_certs\u001B[39m\u001B[39m\"\u001B[39m)\n\u001B[0;32m    411\u001B[0m ):\n\u001B[0;32m    412\u001B[0m     context\u001B[39m.\u001B[39mload_default_certs()\n\u001B[1;32m--> 414\u001B[0m \u001B[39mself\u001B[39m\u001B[39m.\u001B[39msock \u001B[39m=\u001B[39m ssl_wrap_socket(\n\u001B[0;32m    415\u001B[0m     sock\u001B[39m=\u001B[39;49mconn,\n\u001B[0;32m    416\u001B[0m     keyfile\u001B[39m=\u001B[39;49m\u001B[39mself\u001B[39;49m\u001B[39m.\u001B[39;49mkey_file,\n\u001B[0;32m    417\u001B[0m     certfile\u001B[39m=\u001B[39;49m\u001B[39mself\u001B[39;49m\u001B[39m.\u001B[39;49mcert_file,\n\u001B[0;32m    418\u001B[0m     key_password\u001B[39m=\u001B[39;49m\u001B[39mself\u001B[39;49m\u001B[39m.\u001B[39;49mkey_password,\n\u001B[0;32m    419\u001B[0m     ca_certs\u001B[39m=\u001B[39;49m\u001B[39mself\u001B[39;49m\u001B[39m.\u001B[39;49mca_certs,\n\u001B[0;32m    420\u001B[0m     ca_cert_dir\u001B[39m=\u001B[39;49m\u001B[39mself\u001B[39;49m\u001B[39m.\u001B[39;49mca_cert_dir,\n\u001B[0;32m    421\u001B[0m     ca_cert_data\u001B[39m=\u001B[39;49m\u001B[39mself\u001B[39;49m\u001B[39m.\u001B[39;49mca_cert_data,\n\u001B[0;32m    422\u001B[0m     server_hostname\u001B[39m=\u001B[39;49mserver_hostname,\n\u001B[0;32m    423\u001B[0m     ssl_context\u001B[39m=\u001B[39;49mcontext,\n\u001B[0;32m    424\u001B[0m     tls_in_tls\u001B[39m=\u001B[39;49mtls_in_tls,\n\u001B[0;32m    425\u001B[0m )\n\u001B[0;32m    427\u001B[0m \u001B[39m# If we're using all defaults and the connection\u001B[39;00m\n\u001B[0;32m    428\u001B[0m \u001B[39m# is TLSv1 or TLSv1.1 we throw a DeprecationWarning\u001B[39;00m\n\u001B[0;32m    429\u001B[0m \u001B[39m# for the host.\u001B[39;00m\n\u001B[0;32m    430\u001B[0m \u001B[39mif\u001B[39;00m (\n\u001B[0;32m    431\u001B[0m     default_ssl_context\n\u001B[0;32m    432\u001B[0m     \u001B[39mand\u001B[39;00m \u001B[39mself\u001B[39m\u001B[39m.\u001B[39mssl_version \u001B[39mis\u001B[39;00m \u001B[39mNone\u001B[39;00m\n\u001B[0;32m    433\u001B[0m     \u001B[39mand\u001B[39;00m \u001B[39mhasattr\u001B[39m(\u001B[39mself\u001B[39m\u001B[39m.\u001B[39msock, \u001B[39m\"\u001B[39m\u001B[39mversion\u001B[39m\u001B[39m\"\u001B[39m)\n\u001B[0;32m    434\u001B[0m     \u001B[39mand\u001B[39;00m \u001B[39mself\u001B[39m\u001B[39m.\u001B[39msock\u001B[39m.\u001B[39mversion() \u001B[39min\u001B[39;00m {\u001B[39m\"\u001B[39m\u001B[39mTLSv1\u001B[39m\u001B[39m\"\u001B[39m, \u001B[39m\"\u001B[39m\u001B[39mTLSv1.1\u001B[39m\u001B[39m\"\u001B[39m}\n\u001B[0;32m    435\u001B[0m ):\n",
      "File \u001B[1;32mc:\\tools\\Anaconda3\\envs\\htw_project\\lib\\site-packages\\urllib3\\util\\ssl_.py:402\u001B[0m, in \u001B[0;36mssl_wrap_socket\u001B[1;34m(sock, keyfile, certfile, cert_reqs, ca_certs, server_hostname, ssl_version, ciphers, ssl_context, ca_cert_dir, key_password, ca_cert_data, tls_in_tls)\u001B[0m\n\u001B[0;32m    400\u001B[0m \u001B[39mif\u001B[39;00m ca_certs \u001B[39mor\u001B[39;00m ca_cert_dir \u001B[39mor\u001B[39;00m ca_cert_data:\n\u001B[0;32m    401\u001B[0m     \u001B[39mtry\u001B[39;00m:\n\u001B[1;32m--> 402\u001B[0m         context\u001B[39m.\u001B[39;49mload_verify_locations(ca_certs, ca_cert_dir, ca_cert_data)\n\u001B[0;32m    403\u001B[0m     \u001B[39mexcept\u001B[39;00m (\u001B[39mIOError\u001B[39;00m, \u001B[39mOSError\u001B[39;00m) \u001B[39mas\u001B[39;00m e:\n\u001B[0;32m    404\u001B[0m         \u001B[39mraise\u001B[39;00m SSLError(e)\n",
      "\u001B[1;31mKeyboardInterrupt\u001B[0m: "
     ]
    }
   ],
   "source": [
    "for website in website_list:\n",
    "    scrape_reviews_for_website(website)\n"
   ]
  },
  {
   "cell_type": "code",
   "execution_count": null,
   "metadata": {},
   "outputs": [],
   "source": []
  }
 ],
 "metadata": {
  "kernelspec": {
   "display_name": "htw_project",
   "language": "python",
   "name": "python3"
  },
  "language_info": {
   "codemirror_mode": {
    "name": "ipython",
    "version": 3
   },
   "file_extension": ".py",
   "mimetype": "text/x-python",
   "name": "python",
   "nbconvert_exporter": "python",
   "pygments_lexer": "ipython3",
   "version": "3.10.8"
  },
  "vscode": {
   "interpreter": {
    "hash": "2a211c05501a9249167c1cca736772a2815a0891fa1eac7a35b0301f1901e370"
   }
  }
 },
 "nbformat": 4,
 "nbformat_minor": 1
}
