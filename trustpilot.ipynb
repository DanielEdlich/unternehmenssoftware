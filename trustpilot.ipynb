{
 "cells": [
  {
   "cell_type": "code",
   "execution_count": 34,
   "outputs": [],
   "source": [
    "from bs4 import BeautifulSoup\n",
    "import requests\n",
    "import pandas as pd\n",
    "import re"
   ],
   "metadata": {
    "collapsed": false
   }
  },
  {
   "cell_type": "code",
   "execution_count": 35,
   "outputs": [],
   "source": [
    "max_pages = 100\n",
    "max_available_pages = None\n",
    "pages = 1\n",
    "# index=['site', 'date', 'stars', 'title', 'text', 'location']\n",
    "result_df = pd.DataFrame()\n",
    "\n",
    "website = 'www.apple.com'\n",
    "\n",
    "response = requests.get(f'https://www.trustpilot.com/review/' + website)\n",
    "web_page = response.text\n",
    "soup = BeautifulSoup(web_page, 'lxml')\n",
    "\n",
    "max_available_pages = int(soup.find('a', {'name': 'pagination-button-last'}).find('span').string)\n"
   ],
   "metadata": {
    "collapsed": false
   }
  },
  {
   "cell_type": "code",
   "execution_count": 36,
   "outputs": [],
   "source": [
    "# result_df = pd.DataFrame()"
   ],
   "metadata": {
    "collapsed": false
   }
  },
  {
   "cell_type": "code",
   "execution_count": 37,
   "outputs": [],
   "source": [
    "def get_reviews_from_page(page):\n",
    "    return_df = pd.DataFrame()\n",
    "    articles = page.find_all('article')\n",
    "\n",
    "    for article in articles:\n",
    "        country = article.find_next('aside').find_all('span')[-1].string\n",
    "\n",
    "        article_section = article.find_next('section')\n",
    "        stars = re.search(r'\\d+', article_section.find('img')['alt']).group()\n",
    "        date = article_section.find('time')['datetime']\n",
    "        title = article_section.find('h2').string\n",
    "        text_raw = article_section.find('p').contents\n",
    "        text = ' '.join(line.text for line in text_raw if line.text != '')\n",
    "\n",
    "        return_df = pd.concat([return_df , pd.DataFrame([{'site': website, 'date': date, 'stars': stars, 'title': title, 'text': text, 'location': country}])], ignore_index=True)\n",
    "\n",
    "    return return_df"
   ],
   "metadata": {
    "collapsed": false
   }
  },
  {
   "cell_type": "code",
   "execution_count": 38,
   "outputs": [],
   "source": [
    "# already fetched site - no need for duplicate fetching\n",
    "result_df = pd.concat([result_df, get_reviews_from_page(soup)], ignore_index=True)\n",
    "\n",
    "for index in range(2, max_available_pages if max_pages > max_available_pages else max_pages):\n",
    "    page = BeautifulSoup(requests.get(f'https://www.trustpilot.com/review/' + website + \"?page=\" + str(index)).text, 'lxml')\n",
    "    result_df = pd.concat([result_df, get_reviews_from_page(page)], ignore_index=True)\n",
    "\n"
   ],
   "metadata": {
    "collapsed": false
   }
  },
  {
   "cell_type": "code",
   "execution_count": 41,
   "outputs": [],
   "source": [
    "result_df.to_csv(\"data/\" + website + ' - Trustpilot.csv')"
   ],
   "metadata": {
    "collapsed": false
   }
  },
  {
   "cell_type": "code",
   "execution_count": 39,
   "outputs": [],
   "source": [],
   "metadata": {
    "collapsed": false
   }
  }
 ],
 "metadata": {
  "kernelspec": {
   "display_name": "Python 3",
   "language": "python",
   "name": "python3"
  },
  "language_info": {
   "codemirror_mode": {
    "name": "ipython",
    "version": 2
   },
   "file_extension": ".py",
   "mimetype": "text/x-python",
   "name": "python",
   "nbconvert_exporter": "python",
   "pygments_lexer": "ipython2",
   "version": "2.7.6"
  }
 },
 "nbformat": 4,
 "nbformat_minor": 0
}
